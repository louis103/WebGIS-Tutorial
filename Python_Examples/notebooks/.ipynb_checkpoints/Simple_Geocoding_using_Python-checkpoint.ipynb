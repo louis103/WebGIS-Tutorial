{
 "cells": [
  {
   "cell_type": "markdown",
   "metadata": {},
   "source": [
    "# Introduction\n",
    "\n",
    "Ever dealt with geographical data (including physical addresses)?\n",
    "\n",
    "Ever wanted to get accurate coordinates of a given city, place, or even a building's address?\n",
    "\n",
    "Ever wanted to engineer a location-related feature?\n",
    "\n",
    "I found myself in the same situation and I end up using `geopy`, a Python interface for geocoding APIs. This notebook demonstrates my use of `geopy` to extract information from postcodes and other location-related fields.\n",
    "\n",
    "Enjoy!"
   ]
  },
  {
   "cell_type": "code",
   "execution_count": 3,
   "metadata": {},
   "outputs": [
    {
     "name": "stdout",
     "output_type": "stream",
     "text": [
      "Requirement already satisfied: pandas in c:\\program files\\apache software foundation\\tomcat 9.0_tomcat9-webgis-training\\folium_basics\\.venv\\lib\\site-packages (2.0.3)\n",
      "Collecting geopy\n",
      "  Downloading geopy-2.4.0-py3-none-any.whl (125 kB)\n",
      "Requirement already satisfied: python-dateutil>=2.8.2 in c:\\program files\\apache software foundation\\tomcat 9.0_tomcat9-webgis-training\\folium_basics\\.venv\\lib\\site-packages (from pandas) (2.8.2)\n",
      "Requirement already satisfied: pytz>=2020.1 in c:\\program files\\apache software foundation\\tomcat 9.0_tomcat9-webgis-training\\folium_basics\\.venv\\lib\\site-packages (from pandas) (2023.3.post1)\n",
      "Requirement already satisfied: numpy>=1.20.3; python_version < \"3.10\" in c:\\program files\\apache software foundation\\tomcat 9.0_tomcat9-webgis-training\\folium_basics\\.venv\\lib\\site-packages (from pandas) (1.24.4)\n",
      "Requirement already satisfied: tzdata>=2022.1 in c:\\program files\\apache software foundation\\tomcat 9.0_tomcat9-webgis-training\\folium_basics\\.venv\\lib\\site-packages (from pandas) (2023.3)\n",
      "Collecting geographiclib<3,>=1.52\n",
      "  Downloading geographiclib-2.0-py3-none-any.whl (40 kB)\n",
      "Requirement already satisfied: six>=1.5 in c:\\program files\\apache software foundation\\tomcat 9.0_tomcat9-webgis-training\\folium_basics\\.venv\\lib\\site-packages (from python-dateutil>=2.8.2->pandas) (1.16.0)\n",
      "Installing collected packages: geographiclib, geopy\n",
      "Successfully installed geographiclib-2.0 geopy-2.4.0\n"
     ]
    },
    {
     "name": "stderr",
     "output_type": "stream",
     "text": [
      "WARNING: You are using pip version 20.2.1; however, version 23.3.1 is available.\n",
      "You should consider upgrading via the 'c:\\program files\\apache software foundation\\tomcat 9.0_tomcat9-webgis-training\\folium_basics\\.venv\\scripts\\python.exe -m pip install --upgrade pip' command.\n"
     ]
    }
   ],
   "source": [
    "!pip install pandas geopy"
   ]
  },
  {
   "cell_type": "code",
   "execution_count": 4,
   "metadata": {
    "_cell_guid": "b1076dfc-b9ad-4769-8c92-a6c4dae69d19",
    "_uuid": "8f2839f25d086af736a60e9eeb907d3b93b6e0e5"
   },
   "outputs": [
    {
     "data": {
      "text/html": [
       "<div>\n",
       "<style scoped>\n",
       "    .dataframe tbody tr th:only-of-type {\n",
       "        vertical-align: middle;\n",
       "    }\n",
       "\n",
       "    .dataframe tbody tr th {\n",
       "        vertical-align: top;\n",
       "    }\n",
       "\n",
       "    .dataframe thead th {\n",
       "        text-align: right;\n",
       "    }\n",
       "</style>\n",
       "<table border=\"1\" class=\"dataframe\">\n",
       "  <thead>\n",
       "    <tr style=\"text-align: right;\">\n",
       "      <th></th>\n",
       "      <th>Unnamed: 0</th>\n",
       "      <th>Property Name</th>\n",
       "      <th>Price</th>\n",
       "      <th>House Type</th>\n",
       "      <th>Area in sq ft</th>\n",
       "      <th>No. of Bedrooms</th>\n",
       "      <th>No. of Bathrooms</th>\n",
       "      <th>No. of Receptions</th>\n",
       "      <th>Location</th>\n",
       "      <th>City/County</th>\n",
       "      <th>Postal Code</th>\n",
       "    </tr>\n",
       "  </thead>\n",
       "  <tbody>\n",
       "    <tr>\n",
       "      <th>0</th>\n",
       "      <td>0</td>\n",
       "      <td>Queens Road</td>\n",
       "      <td>1675000</td>\n",
       "      <td>House</td>\n",
       "      <td>2716</td>\n",
       "      <td>5</td>\n",
       "      <td>5</td>\n",
       "      <td>5</td>\n",
       "      <td>Wimbledon</td>\n",
       "      <td>London</td>\n",
       "      <td>SW19 8NY</td>\n",
       "    </tr>\n",
       "    <tr>\n",
       "      <th>1</th>\n",
       "      <td>1</td>\n",
       "      <td>Seward Street</td>\n",
       "      <td>650000</td>\n",
       "      <td>Flat / Apartment</td>\n",
       "      <td>814</td>\n",
       "      <td>2</td>\n",
       "      <td>2</td>\n",
       "      <td>2</td>\n",
       "      <td>Clerkenwell</td>\n",
       "      <td>London</td>\n",
       "      <td>EC1V 3PA</td>\n",
       "    </tr>\n",
       "    <tr>\n",
       "      <th>2</th>\n",
       "      <td>2</td>\n",
       "      <td>Hotham Road</td>\n",
       "      <td>735000</td>\n",
       "      <td>Flat / Apartment</td>\n",
       "      <td>761</td>\n",
       "      <td>2</td>\n",
       "      <td>2</td>\n",
       "      <td>2</td>\n",
       "      <td>Putney</td>\n",
       "      <td>London</td>\n",
       "      <td>SW15 1QL</td>\n",
       "    </tr>\n",
       "    <tr>\n",
       "      <th>3</th>\n",
       "      <td>3</td>\n",
       "      <td>Festing Road</td>\n",
       "      <td>1765000</td>\n",
       "      <td>House</td>\n",
       "      <td>1986</td>\n",
       "      <td>4</td>\n",
       "      <td>4</td>\n",
       "      <td>4</td>\n",
       "      <td>Putney</td>\n",
       "      <td>London</td>\n",
       "      <td>SW15 1LP</td>\n",
       "    </tr>\n",
       "    <tr>\n",
       "      <th>4</th>\n",
       "      <td>4</td>\n",
       "      <td>Spencer Walk</td>\n",
       "      <td>675000</td>\n",
       "      <td>Flat / Apartment</td>\n",
       "      <td>700</td>\n",
       "      <td>2</td>\n",
       "      <td>2</td>\n",
       "      <td>2</td>\n",
       "      <td>Putney</td>\n",
       "      <td>London</td>\n",
       "      <td>SW15 1PL</td>\n",
       "    </tr>\n",
       "    <tr>\n",
       "      <th>...</th>\n",
       "      <td>...</td>\n",
       "      <td>...</td>\n",
       "      <td>...</td>\n",
       "      <td>...</td>\n",
       "      <td>...</td>\n",
       "      <td>...</td>\n",
       "      <td>...</td>\n",
       "      <td>...</td>\n",
       "      <td>...</td>\n",
       "      <td>...</td>\n",
       "      <td>...</td>\n",
       "    </tr>\n",
       "    <tr>\n",
       "      <th>3475</th>\n",
       "      <td>3475</td>\n",
       "      <td>One Lillie Square</td>\n",
       "      <td>3350000</td>\n",
       "      <td>New development</td>\n",
       "      <td>1410</td>\n",
       "      <td>3</td>\n",
       "      <td>3</td>\n",
       "      <td>3</td>\n",
       "      <td>NaN</td>\n",
       "      <td>Lillie Square</td>\n",
       "      <td>SW6 1UE</td>\n",
       "    </tr>\n",
       "    <tr>\n",
       "      <th>3476</th>\n",
       "      <td>3476</td>\n",
       "      <td>St. James's Street</td>\n",
       "      <td>5275000</td>\n",
       "      <td>Flat / Apartment</td>\n",
       "      <td>1749</td>\n",
       "      <td>3</td>\n",
       "      <td>3</td>\n",
       "      <td>3</td>\n",
       "      <td>St James's</td>\n",
       "      <td>London</td>\n",
       "      <td>SW1A 1JT</td>\n",
       "    </tr>\n",
       "    <tr>\n",
       "      <th>3477</th>\n",
       "      <td>3477</td>\n",
       "      <td>Ingram Avenue</td>\n",
       "      <td>5995000</td>\n",
       "      <td>House</td>\n",
       "      <td>4435</td>\n",
       "      <td>6</td>\n",
       "      <td>6</td>\n",
       "      <td>6</td>\n",
       "      <td>Hampstead Garden Suburb</td>\n",
       "      <td>London</td>\n",
       "      <td>NW11 6TG</td>\n",
       "    </tr>\n",
       "    <tr>\n",
       "      <th>3478</th>\n",
       "      <td>3478</td>\n",
       "      <td>Cork Street</td>\n",
       "      <td>6300000</td>\n",
       "      <td>New development</td>\n",
       "      <td>1506</td>\n",
       "      <td>3</td>\n",
       "      <td>3</td>\n",
       "      <td>3</td>\n",
       "      <td>Mayfair</td>\n",
       "      <td>London</td>\n",
       "      <td>W1S 3AR</td>\n",
       "    </tr>\n",
       "    <tr>\n",
       "      <th>3479</th>\n",
       "      <td>3479</td>\n",
       "      <td>Courtenay Avenue</td>\n",
       "      <td>8650000</td>\n",
       "      <td>House</td>\n",
       "      <td>5395</td>\n",
       "      <td>6</td>\n",
       "      <td>6</td>\n",
       "      <td>6</td>\n",
       "      <td>Highgate</td>\n",
       "      <td>London</td>\n",
       "      <td>N6 4LP</td>\n",
       "    </tr>\n",
       "  </tbody>\n",
       "</table>\n",
       "<p>3480 rows × 11 columns</p>\n",
       "</div>"
      ],
      "text/plain": [
       "      Unnamed: 0       Property Name    Price        House Type  \\\n",
       "0              0         Queens Road  1675000             House   \n",
       "1              1       Seward Street   650000  Flat / Apartment   \n",
       "2              2         Hotham Road   735000  Flat / Apartment   \n",
       "3              3        Festing Road  1765000             House   \n",
       "4              4        Spencer Walk   675000  Flat / Apartment   \n",
       "...          ...                 ...      ...               ...   \n",
       "3475        3475   One Lillie Square  3350000   New development   \n",
       "3476        3476  St. James's Street  5275000  Flat / Apartment   \n",
       "3477        3477       Ingram Avenue  5995000             House   \n",
       "3478        3478         Cork Street  6300000   New development   \n",
       "3479        3479    Courtenay Avenue  8650000             House   \n",
       "\n",
       "      Area in sq ft  No. of Bedrooms  No. of Bathrooms  No. of Receptions  \\\n",
       "0              2716                5                 5                  5   \n",
       "1               814                2                 2                  2   \n",
       "2               761                2                 2                  2   \n",
       "3              1986                4                 4                  4   \n",
       "4               700                2                 2                  2   \n",
       "...             ...              ...               ...                ...   \n",
       "3475           1410                3                 3                  3   \n",
       "3476           1749                3                 3                  3   \n",
       "3477           4435                6                 6                  6   \n",
       "3478           1506                3                 3                  3   \n",
       "3479           5395                6                 6                  6   \n",
       "\n",
       "                     Location    City/County Postal Code  \n",
       "0                   Wimbledon         London    SW19 8NY  \n",
       "1                 Clerkenwell         London    EC1V 3PA  \n",
       "2                      Putney         London    SW15 1QL  \n",
       "3                      Putney         London    SW15 1LP  \n",
       "4                      Putney         London    SW15 1PL  \n",
       "...                       ...            ...         ...  \n",
       "3475                      NaN  Lillie Square     SW6 1UE  \n",
       "3476               St James's         London    SW1A 1JT  \n",
       "3477  Hampstead Garden Suburb         London    NW11 6TG  \n",
       "3478                  Mayfair         London     W1S 3AR  \n",
       "3479                 Highgate         London      N6 4LP  \n",
       "\n",
       "[3480 rows x 11 columns]"
      ]
     },
     "execution_count": 4,
     "metadata": {},
     "output_type": "execute_result"
    }
   ],
   "source": [
    "import pandas as pd\n",
    "full_data = pd.read_csv('../data/London.csv')\n",
    "full_data"
   ]
  },
  {
   "cell_type": "markdown",
   "metadata": {},
   "source": [
    "# What is a geocoding API?\n",
    "\n",
    "Think Google Maps: you can send them a query string and they will search for that string and if they find a matching place/location, they'll send back a coordinate. They can also give you the more structured address of that location:\n",
    "\n",
    "- street\n",
    "- district\n",
    "- state\n",
    "- country\n",
    "- even maybe postal codes, if available!\n",
    "\n",
    "`geopy` provides simple, Pythonic interface for the APIs so you won't craft the requests and parse the responses by hand. One of the free and open-source geocoding APIs is Nominatim, provided by OpenStreetMap contributors."
   ]
  },
  {
   "cell_type": "code",
   "execution_count": null,
   "metadata": {
    "execution": {
     "iopub.execute_input": "2021-10-23T03:15:01.123557Z",
     "iopub.status.busy": "2021-10-23T03:15:01.123248Z",
     "iopub.status.idle": "2021-10-23T03:15:01.195744Z",
     "shell.execute_reply": "2021-10-23T03:15:01.194825Z",
     "shell.execute_reply.started": "2021-10-23T03:15:01.123518Z"
    }
   },
   "outputs": [],
   "source": [
    "from geopy import geocoders\n",
    "\n",
    "# Instantiate a geocoder\n",
    "# Note: Nominatim requires user_agent field to be filled with\n",
    "# a general idea of what you are using Nominatim for.\n",
    "geocoder = geocoders.Nominatim(user_agent = 'WebGIS Tutorial')"
   ]
  },
  {
   "cell_type": "code",
   "execution_count": null,
   "metadata": {
    "execution": {
     "iopub.execute_input": "2021-10-23T03:15:01.197719Z",
     "iopub.status.busy": "2021-10-23T03:15:01.197209Z",
     "iopub.status.idle": "2021-10-23T03:15:01.916311Z",
     "shell.execute_reply": "2021-10-23T03:15:01.91539Z",
     "shell.execute_reply.started": "2021-10-23T03:15:01.197677Z"
    }
   },
   "outputs": [],
   "source": [
    "# Use the geocoder to send a sample request,\n",
    "# plus additional address details.\n",
    "result = geocoder.geocode('London', addressdetails = True)\n",
    "result"
   ]
  },
  {
   "cell_type": "markdown",
   "metadata": {},
   "source": [
    "# The response object\n",
    "\n",
    "The following cells demonstrate what can be accessed from the `geopy`'s resulting Location object."
   ]
  },
  {
   "cell_type": "code",
   "execution_count": null,
   "metadata": {
    "execution": {
     "iopub.execute_input": "2021-10-23T03:15:01.919129Z",
     "iopub.status.busy": "2021-10-23T03:15:01.918799Z",
     "iopub.status.idle": "2021-10-23T03:15:01.925586Z",
     "shell.execute_reply": "2021-10-23T03:15:01.924833Z",
     "shell.execute_reply.started": "2021-10-23T03:15:01.919086Z"
    }
   },
   "outputs": [],
   "source": [
    "result.point"
   ]
  },
  {
   "cell_type": "code",
   "execution_count": null,
   "metadata": {
    "execution": {
     "iopub.execute_input": "2021-10-23T03:15:01.927508Z",
     "iopub.status.busy": "2021-10-23T03:15:01.926737Z",
     "iopub.status.idle": "2021-10-23T03:15:01.940236Z",
     "shell.execute_reply": "2021-10-23T03:15:01.939189Z",
     "shell.execute_reply.started": "2021-10-23T03:15:01.927476Z"
    }
   },
   "outputs": [],
   "source": [
    "(result.latitude, result.longitude, result.altitude)"
   ]
  },
  {
   "cell_type": "code",
   "execution_count": null,
   "metadata": {
    "execution": {
     "iopub.execute_input": "2021-10-23T03:15:01.942448Z",
     "iopub.status.busy": "2021-10-23T03:15:01.941605Z",
     "iopub.status.idle": "2021-10-23T03:15:01.954271Z",
     "shell.execute_reply": "2021-10-23T03:15:01.953376Z",
     "shell.execute_reply.started": "2021-10-23T03:15:01.942389Z"
    }
   },
   "outputs": [],
   "source": [
    "result.raw\n",
    "\n",
    "# The 'address' field is our juicy information."
   ]
  },
  {
   "cell_type": "markdown",
   "metadata": {},
   "source": [
    "`result.raw['address']` above will return a dictionary that enlists a very neatly structured address hierarchy. If we use it with specific enough place, we can even get the name of the building, street, and the surrounding suburbs!"
   ]
  },
  {
   "cell_type": "code",
   "execution_count": null,
   "metadata": {
    "execution": {
     "iopub.execute_input": "2021-10-23T03:15:01.955802Z",
     "iopub.status.busy": "2021-10-23T03:15:01.955184Z",
     "iopub.status.idle": "2021-10-23T03:15:02.413317Z",
     "shell.execute_reply": "2021-10-23T03:15:02.412382Z",
     "shell.execute_reply.started": "2021-10-23T03:15:01.955772Z"
    }
   },
   "outputs": [],
   "source": [
    "# Search for Hornsey Town Hall within Great Britain only.\n",
    "result = geocoder.geocode('Hornsey Town Hall', addressdetails = True, country_codes = 'gb')\n",
    "result"
   ]
  },
  {
   "cell_type": "markdown",
   "metadata": {},
   "source": [
    "# Processing and rate-limiting\n",
    "\n",
    "We can make the geocoding calls more convenient by making a helper function that\n",
    "\n",
    "- process our inputs by adding arguments that we'll always use, and\n",
    "- process the outputs by giving only fields that we want.\n",
    "\n",
    "Furthermore, we can rate-limit our requests so we don't overwhelm the server."
   ]
  },
  {
   "cell_type": "code",
   "execution_count": null,
   "metadata": {
    "execution": {
     "iopub.execute_input": "2021-10-23T03:15:02.415101Z",
     "iopub.status.busy": "2021-10-23T03:15:02.414674Z",
     "iopub.status.idle": "2021-10-23T03:15:02.430491Z",
     "shell.execute_reply": "2021-10-23T03:15:02.429319Z",
     "shell.execute_reply.started": "2021-10-23T03:15:02.414996Z"
    }
   },
   "outputs": [],
   "source": [
    "# This is a helper function to screen in only these fields\n",
    "cols = ['suburb', 'town', 'city', 'state_district', 'state', 'country']\n",
    "def geocode(query):\n",
    "    # Make a geocoding request with query,\n",
    "    # restrict the results to Great Britain,\n",
    "    # and give detailed address structure.\n",
    "    result = geocoder.geocode(query, country_codes = 'gb', addressdetails = True)\n",
    "    \n",
    "    # If there is no result with that query, return None\n",
    "    if result is None:\n",
    "        return None\n",
    "    \n",
    "    # If there is a result, return only the desired fields\n",
    "    address = result.raw['address']\n",
    "    address = {key: value for key, value in address.items() if key in cols}\n",
    "    return address\n",
    "\n",
    "# Rate limit the requests to only 20 requests per second max.\n",
    "from geopy.extra.rate_limiter import RateLimiter\n",
    "geocode = RateLimiter(geocode, min_delay_seconds = 1/20)"
   ]
  },
  {
   "cell_type": "code",
   "execution_count": null,
   "metadata": {
    "execution": {
     "iopub.execute_input": "2021-10-23T03:15:02.433374Z",
     "iopub.status.busy": "2021-10-23T03:15:02.432229Z",
     "iopub.status.idle": "2021-10-23T03:15:02.905136Z",
     "shell.execute_reply": "2021-10-23T03:15:02.904306Z",
     "shell.execute_reply.started": "2021-10-23T03:15:02.43328Z"
    }
   },
   "outputs": [],
   "source": [
    "# Call our function above with a postcode\n",
    "addr = geocode('SW19 8NY')\n",
    "addr"
   ]
  },
  {
   "cell_type": "code",
   "execution_count": null,
   "metadata": {
    "execution": {
     "iopub.execute_input": "2021-10-23T03:15:02.908244Z",
     "iopub.status.busy": "2021-10-23T03:15:02.907934Z",
     "iopub.status.idle": "2021-10-23T03:15:03.4181Z",
     "shell.execute_reply": "2021-10-23T03:15:03.41728Z",
     "shell.execute_reply.started": "2021-10-23T03:15:02.908206Z"
    }
   },
   "outputs": [],
   "source": [
    "# Call our function above with a street name plus city\n",
    "addr = geocode('Seward Street, London')\n",
    "addr"
   ]
  },
  {
   "cell_type": "code",
   "execution_count": null,
   "metadata": {
    "execution": {
     "iopub.execute_input": "2021-10-23T03:15:03.419685Z",
     "iopub.status.busy": "2021-10-23T03:15:03.419483Z",
     "iopub.status.idle": "2021-10-23T03:15:03.974525Z",
     "shell.execute_reply": "2021-10-23T03:15:03.973697Z",
     "shell.execute_reply.started": "2021-10-23T03:15:03.41966Z"
    }
   },
   "outputs": [],
   "source": [
    "# Call our function with a place that definitely does not exist\n",
    "# in Great Britain\n",
    "addr = geocode('Uttar Pradesh')\n",
    "addr is None"
   ]
  },
  {
   "cell_type": "code",
   "execution_count": null,
   "metadata": {
    "execution": {
     "iopub.execute_input": "2021-10-23T03:15:03.975832Z",
     "iopub.status.busy": "2021-10-23T03:15:03.975602Z",
     "iopub.status.idle": "2021-10-23T03:15:04.400587Z",
     "shell.execute_reply": "2021-10-23T03:15:04.399707Z",
     "shell.execute_reply.started": "2021-10-23T03:15:03.975804Z"
    }
   },
   "outputs": [],
   "source": [
    "# Call our function with a typo\n",
    "addr = geocode('Birminghm')\n",
    "addr is None"
   ]
  },
  {
   "cell_type": "code",
   "execution_count": null,
   "metadata": {
    "execution": {
     "iopub.execute_input": "2021-10-23T03:17:49.929892Z",
     "iopub.status.busy": "2021-10-23T03:17:49.929586Z",
     "iopub.status.idle": "2021-10-23T03:17:55.00104Z",
     "shell.execute_reply": "2021-10-23T03:17:55.000191Z",
     "shell.execute_reply.started": "2021-10-23T03:17:49.929856Z"
    }
   },
   "outputs": [],
   "source": [
    "pd.json_normalize(full_data[\"Postal Code\"].sample(10).apply(geocode))"
   ]
  },
  {
   "cell_type": "code",
   "execution_count": null,
   "metadata": {},
   "outputs": [],
   "source": [
    "%%time\n",
    "\n",
    "# Get a fully structured dataframe of address by searching for UK postcodes\n",
    "# in Nominatim's OpeenStreetMap database.\n",
    "nominatim_address = full_data['Postal Code'].apply(geocode)\n",
    "\n",
    "# Convert the Series of dict into proper dataframe\n",
    "nominatim_address = pd.json_normalize(nominatim_address)\n",
    "\n",
    "# Append the original Postal Code to the left\n",
    "nominatim_address = pd.concat([full_data['Postal Code'], nominatim_address], axis = 1)\n",
    "\n",
    "# Display\n",
    "nominatim_address"
   ]
  },
  {
   "cell_type": "markdown",
   "metadata": {},
   "source": [
    "Some caveat:\n",
    "\n",
    "- Nominatim is an open-source, free APIs, provided by community contributions and donations. Being free, it rate-limits your use -- the above cell takes about ~30 minutes for ~3500 entries or about 2 entries per second. You are also not allowed to do bulk-geocoding and scraping, it violates the terms of service.\n",
    "\n",
    "- Nominatim's database (OpenStreetMap) is also powered by community contributions. In my experience, when I try to use Nominatim on rural or remote places, the results get less detailed -- maybe because there's less contributors for that area. However, it's still a very capable free alternative for research and experiment purposes.\n",
    "\n",
    "- Nominatim does not handle typos! You get what you type in! This is good, actually; so you won't get coordinates of a wrong place halfway across the world due to mistyping on you or your data's end."
   ]
  },
  {
   "cell_type": "markdown",
   "metadata": {},
   "source": [
    "# Closing\n",
    "\n",
    "That's it! I hope this notebook helps you in dealing with addresses and other location-related data by using free, open-source, geocoding APIs. Being a citizen of the internet that loves freedom in research, you know I love free things ;)\n",
    "\n",
    "Feel free to upvote and fork if you like to try this yourself. Keep learning and happy data-sciencing!"
   ]
  }
 ],
 "metadata": {
  "kernelspec": {
   "display_name": "Python 3 (ipykernel)",
   "language": "python",
   "name": "python3"
  },
  "language_info": {
   "codemirror_mode": {
    "name": "ipython",
    "version": 3
   },
   "file_extension": ".py",
   "mimetype": "text/x-python",
   "name": "python",
   "nbconvert_exporter": "python",
   "pygments_lexer": "ipython3",
   "version": "3.8.6"
  }
 },
 "nbformat": 4,
 "nbformat_minor": 4
}
